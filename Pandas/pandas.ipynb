{
 "cells": [
  {
   "cell_type": "code",
   "execution_count": null,
   "id": "adee81dc",
   "metadata": {},
   "outputs": [],
   "source": [
    "import numpy as np\n",
    "import pandas as pd"
   ]
  },
  {
   "cell_type": "code",
   "execution_count": null,
   "id": "0b03d9c0",
   "metadata": {},
   "outputs": [],
   "source": [
    "dict1 =  {\n",
    "    \"name\":['harry','rohan','skillf'],\n",
    "    \"marks\": [51,42,32],\n",
    "    \"city\":['rampur','kolkata','brailly'] \n",
    "}"
   ]
  },
  {
   "cell_type": "code",
   "execution_count": null,
   "id": "d900f534",
   "metadata": {},
   "outputs": [],
   "source": [
    "df= pd.DataFrame(dict1)"
   ]
  },
  {
   "cell_type": "code",
   "execution_count": null,
   "id": "2ff2070f",
   "metadata": {},
   "outputs": [],
   "source": [
    "df.to_csv(\"frdns.csv\",index=False)"
   ]
  },
  {
   "cell_type": "code",
   "execution_count": null,
   "id": "6a52b41a",
   "metadata": {},
   "outputs": [],
   "source": [
    "df.head(2)"
   ]
  },
  {
   "cell_type": "code",
   "execution_count": null,
   "id": "4c5dbd07",
   "metadata": {},
   "outputs": [],
   "source": [
    "df.tail(1)"
   ]
  },
  {
   "cell_type": "code",
   "execution_count": null,
   "id": "4d781c23",
   "metadata": {},
   "outputs": [],
   "source": [
    "df.describe()"
   ]
  },
  {
   "cell_type": "code",
   "execution_count": null,
   "id": "973532be",
   "metadata": {},
   "outputs": [],
   "source": [
    "file = pd.read_csv('frdns.csv')\n",
    "file"
   ]
  },
  {
   "cell_type": "code",
   "execution_count": null,
   "id": "e511b3ae",
   "metadata": {},
   "outputs": [],
   "source": [
    "file['marks'][0] = 120\n",
    "file"
   ]
  },
  {
   "cell_type": "code",
   "execution_count": null,
   "id": "9064d723",
   "metadata": {},
   "outputs": [],
   "source": [
    "df"
   ]
  },
  {
   "cell_type": "code",
   "execution_count": null,
   "id": "7450c031",
   "metadata": {},
   "outputs": [],
   "source": [
    "file[\"marks\"][0]"
   ]
  },
  {
   "cell_type": "code",
   "execution_count": null,
   "id": "6dfbb98c",
   "metadata": {},
   "outputs": [],
   "source": [
    "file.to_csv(\"frdns.csv\")"
   ]
  },
  {
   "cell_type": "code",
   "execution_count": null,
   "id": "0aab777a",
   "metadata": {},
   "outputs": [],
   "source": [
    "file.index = ['1st','2nd','3rd']"
   ]
  },
  {
   "cell_type": "code",
   "execution_count": null,
   "id": "fe8999cb",
   "metadata": {},
   "outputs": [],
   "source": [
    "file"
   ]
  },
  {
   "cell_type": "code",
   "execution_count": null,
   "id": "b84ec55d",
   "metadata": {},
   "outputs": [],
   "source": [
    "ser = pd.Series(np.random.rand(10))\n",
    "ser"
   ]
  },
  {
   "attachments": {},
   "cell_type": "markdown",
   "id": "8432c5ec",
   "metadata": {},
   "source": [
    "# applying pivot and melt"
   ]
  },
  {
   "cell_type": "code",
   "execution_count": null,
   "id": "d7ef514d",
   "metadata": {},
   "outputs": [],
   "source": [
    "df = pd.read_csv(\"D:\\GitHub repos\\Python-Data\\Libraries\\Practice_on_ML\\datasets\\lifesat\\gdp_per_capita.csv\")\n",
    "df.head()"
   ]
  },
  {
   "cell_type": "code",
   "execution_count": null,
   "id": "4dbdafff",
   "metadata": {},
   "outputs": [],
   "source": [
    "df.rename(columns={'Entity':'Country'}, inplace=True)\n",
    "df = df.pivot(index=\"Country\",columns=\"Year\", values=\"GDP per capita, PPP (constant 2017 international $)\")\n",
    "df = df.reset_index()\n",
    "df"
   ]
  },
  {
   "cell_type": "code",
   "execution_count": null,
   "id": "1f5647d9",
   "metadata": {},
   "outputs": [],
   "source": [
    "df = pd.melt(df,id_vars=['Country'],value_name=\"GDP\",var_name=\"Year\" )\n",
    "df"
   ]
  },
  {
   "cell_type": "code",
   "execution_count": null,
   "id": "50515b61",
   "metadata": {},
   "outputs": [],
   "source": [
    "newf = pd.DataFrame(np.random.rand(334,5), index = np.arange(334))"
   ]
  },
  {
   "cell_type": "code",
   "execution_count": null,
   "id": "ed3109cd",
   "metadata": {},
   "outputs": [],
   "source": [
    "newf"
   ]
  },
  {
   "cell_type": "code",
   "execution_count": null,
   "id": "f0dbc93b",
   "metadata": {},
   "outputs": [],
   "source": [
    "type(newf)"
   ]
  },
  {
   "cell_type": "code",
   "execution_count": null,
   "id": "ad35c22b",
   "metadata": {},
   "outputs": [],
   "source": [
    "newf.describe()"
   ]
  },
  {
   "cell_type": "code",
   "execution_count": null,
   "id": "8da02506",
   "metadata": {},
   "outputs": [],
   "source": [
    "newf.head()"
   ]
  },
  {
   "cell_type": "code",
   "execution_count": null,
   "id": "0dcea320",
   "metadata": {},
   "outputs": [],
   "source": [
    "newf.dtypes"
   ]
  },
  {
   "cell_type": "code",
   "execution_count": null,
   "id": "530df428",
   "metadata": {},
   "outputs": [],
   "source": [
    "newf[0][0]=0.1213"
   ]
  },
  {
   "cell_type": "code",
   "execution_count": null,
   "id": "17cf9149",
   "metadata": {},
   "outputs": [],
   "source": [
    "newf.head()"
   ]
  },
  {
   "cell_type": "code",
   "execution_count": null,
   "id": "839a88df",
   "metadata": {},
   "outputs": [],
   "source": [
    "newf.index"
   ]
  },
  {
   "cell_type": "code",
   "execution_count": null,
   "id": "67cb144f",
   "metadata": {},
   "outputs": [],
   "source": [
    "newf.columns"
   ]
  },
  {
   "cell_type": "code",
   "execution_count": null,
   "id": "74ebcbbf",
   "metadata": {},
   "outputs": [],
   "source": [
    "arr = newf.to_numpy()\n",
    "arr"
   ]
  },
  {
   "cell_type": "code",
   "execution_count": null,
   "id": "27dbdfbb",
   "metadata": {},
   "outputs": [],
   "source": [
    "newf.T"
   ]
  },
  {
   "cell_type": "code",
   "execution_count": null,
   "id": "1c87ea4b",
   "metadata": {},
   "outputs": [],
   "source": [
    "newf.head()"
   ]
  },
  {
   "cell_type": "code",
   "execution_count": null,
   "id": "31db5317",
   "metadata": {},
   "outputs": [],
   "source": [
    "newf.sort_index(axis=0, ascending=False).head()"
   ]
  },
  {
   "cell_type": "code",
   "execution_count": null,
   "id": "77655f08",
   "metadata": {},
   "outputs": [],
   "source": [
    "newf.sort_index(axis=1, ascending=False).head()"
   ]
  },
  {
   "cell_type": "code",
   "execution_count": null,
   "id": "22f0029a",
   "metadata": {},
   "outputs": [],
   "source": [
    "type(newf[0])"
   ]
  },
  {
   "cell_type": "code",
   "execution_count": null,
   "id": "b3ce414b",
   "metadata": {},
   "outputs": [],
   "source": [
    "newf2 = newf.copy()"
   ]
  },
  {
   "cell_type": "code",
   "execution_count": null,
   "id": "82440cb7",
   "metadata": {},
   "outputs": [],
   "source": [
    "newf2[0][0]=1232"
   ]
  },
  {
   "cell_type": "code",
   "execution_count": null,
   "id": "d96f6782",
   "metadata": {},
   "outputs": [],
   "source": [
    "newf.head()"
   ]
  },
  {
   "cell_type": "code",
   "execution_count": null,
   "id": "e13a820d",
   "metadata": {},
   "outputs": [],
   "source": [
    "newf.loc[0,0]=\"zeeshan\""
   ]
  },
  {
   "cell_type": "code",
   "execution_count": null,
   "id": "4941c4f1",
   "metadata": {},
   "outputs": [],
   "source": [
    "newf"
   ]
  },
  {
   "cell_type": "code",
   "execution_count": null,
   "id": "712e6247",
   "metadata": {},
   "outputs": [],
   "source": [
    "newf.columns = list(\"ABCDE\")"
   ]
  },
  {
   "cell_type": "code",
   "execution_count": null,
   "id": "bf085bc9",
   "metadata": {},
   "outputs": [],
   "source": [
    "newf.head()"
   ]
  },
  {
   "cell_type": "code",
   "execution_count": null,
   "id": "107fac2c",
   "metadata": {},
   "outputs": [],
   "source": [
    "newf.loc[0,'A']=\"uzair\""
   ]
  },
  {
   "cell_type": "code",
   "execution_count": null,
   "id": "2b477bd1",
   "metadata": {},
   "outputs": [],
   "source": [
    "newf"
   ]
  },
  {
   "cell_type": "code",
   "execution_count": null,
   "id": "9baeb96b",
   "metadata": {},
   "outputs": [],
   "source": [
    "newf.loc[0,0]=12"
   ]
  },
  {
   "cell_type": "code",
   "execution_count": null,
   "id": "942aa04f",
   "metadata": {},
   "outputs": [],
   "source": [
    "newf"
   ]
  },
  {
   "cell_type": "code",
   "execution_count": null,
   "id": "25776a98",
   "metadata": {},
   "outputs": [],
   "source": [
    "newf=newf.drop(0,axis=1)   #asix=0 is rows and axis=1 is colm"
   ]
  },
  {
   "cell_type": "code",
   "execution_count": null,
   "id": "f2645dd4",
   "metadata": {},
   "outputs": [],
   "source": [
    "newf.head()"
   ]
  },
  {
   "cell_type": "code",
   "execution_count": null,
   "id": "b4812d32",
   "metadata": {},
   "outputs": [],
   "source": [
    "newf.loc[[1,2],['C','D']]"
   ]
  },
  {
   "cell_type": "code",
   "execution_count": null,
   "id": "483e72d0",
   "metadata": {},
   "outputs": [],
   "source": [
    "newf.loc[:,['C','D']]"
   ]
  },
  {
   "cell_type": "code",
   "execution_count": null,
   "id": "7795892c",
   "metadata": {},
   "outputs": [],
   "source": [
    "newf.loc[(newf['B']<0.1) & (newf['C']>0.5)]"
   ]
  },
  {
   "cell_type": "code",
   "execution_count": null,
   "id": "9631694f",
   "metadata": {},
   "outputs": [],
   "source": [
    "newf.iloc[0,4] #search with index"
   ]
  },
  {
   "cell_type": "code",
   "execution_count": null,
   "id": "004f9e2b",
   "metadata": {},
   "outputs": [],
   "source": [
    "newf.iloc[[0,5],[1,3]]  #inplace=True for save it to newf"
   ]
  },
  {
   "cell_type": "code",
   "execution_count": null,
   "id": "c1f71e4b",
   "metadata": {},
   "outputs": [],
   "source": [
    "newf.drop([1,5],axis=0,inplace=True)"
   ]
  },
  {
   "cell_type": "code",
   "execution_count": null,
   "id": "882d0f9b",
   "metadata": {},
   "outputs": [],
   "source": [
    "newf"
   ]
  },
  {
   "cell_type": "code",
   "execution_count": null,
   "id": "63ccbade",
   "metadata": {},
   "outputs": [],
   "source": [
    "newf.reset_index(drop=True, inplace=True)"
   ]
  },
  {
   "cell_type": "code",
   "execution_count": null,
   "id": "8df37f8f",
   "metadata": {},
   "outputs": [],
   "source": [
    "newf.head()"
   ]
  },
  {
   "cell_type": "code",
   "execution_count": null,
   "id": "469f0a9a",
   "metadata": {},
   "outputs": [],
   "source": [
    "newf['B'].isnull()"
   ]
  },
  {
   "cell_type": "code",
   "execution_count": null,
   "id": "d98a755b",
   "metadata": {},
   "outputs": [],
   "source": [
    "newf.loc[:,['B']]=1"
   ]
  },
  {
   "cell_type": "code",
   "execution_count": null,
   "id": "1584a9b7",
   "metadata": {},
   "outputs": [],
   "source": [
    "newf.isnull()"
   ]
  },
  {
   "cell_type": "code",
   "execution_count": null,
   "id": "2b4ef780",
   "metadata": {},
   "outputs": [],
   "source": [
    "newf.head()"
   ]
  },
  {
   "cell_type": "code",
   "execution_count": null,
   "id": "a875818d",
   "metadata": {},
   "outputs": [],
   "source": [
    "newf.notnull()"
   ]
  },
  {
   "cell_type": "code",
   "execution_count": null,
   "id": "82046ae7",
   "metadata": {},
   "outputs": [],
   "source": [
    "df.describe()"
   ]
  },
  {
   "cell_type": "code",
   "execution_count": null,
   "id": "2c9ebc8b",
   "metadata": {},
   "outputs": [],
   "source": [
    "df.mean()"
   ]
  },
  {
   "cell_type": "code",
   "execution_count": null,
   "id": "f64a092f",
   "metadata": {},
   "outputs": [],
   "source": [
    "df.corr()"
   ]
  },
  {
   "cell_type": "code",
   "execution_count": null,
   "id": "9f953481",
   "metadata": {},
   "outputs": [],
   "source": [
    "df.count()"
   ]
  },
  {
   "cell_type": "code",
   "execution_count": null,
   "id": "34fa21db",
   "metadata": {},
   "outputs": [],
   "source": [
    "df.max()"
   ]
  },
  {
   "cell_type": "code",
   "execution_count": null,
   "id": "d0dd4c22",
   "metadata": {},
   "outputs": [],
   "source": [
    "df.min()"
   ]
  },
  {
   "cell_type": "code",
   "execution_count": null,
   "id": "9f0c2b47",
   "metadata": {},
   "outputs": [],
   "source": [
    "df.median()"
   ]
  },
  {
   "cell_type": "code",
   "execution_count": null,
   "id": "81227d77",
   "metadata": {},
   "outputs": [],
   "source": [
    "df.std()"
   ]
  },
  {
   "cell_type": "code",
   "execution_count": null,
   "id": "680c1d30",
   "metadata": {},
   "outputs": [],
   "source": []
  }
 ],
 "metadata": {
  "kernelspec": {
   "display_name": "Python 3",
   "language": "python",
   "name": "python3"
  },
  "language_info": {
   "codemirror_mode": {
    "name": "ipython",
    "version": 3
   },
   "file_extension": ".py",
   "mimetype": "text/x-python",
   "name": "python",
   "nbconvert_exporter": "python",
   "pygments_lexer": "ipython3",
   "version": "3.9.13"
  },
  "vscode": {
   "interpreter": {
    "hash": "6fff98fc3b3d81bd655c2cc48858186e4d9e2db7b515bf1c3221888f12a62f87"
   }
  }
 },
 "nbformat": 4,
 "nbformat_minor": 5
}
